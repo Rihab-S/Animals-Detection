{
 "cells": [
  {
   "cell_type": "code",
   "execution_count": null,
   "id": "26e22606-59fb-499d-9ad7-abb4ae243adb",
   "metadata": {},
   "outputs": [],
   "source": []
  }
 ],
 "metadata": {
  "kernelspec": {
   "display_name": "",
   "name": ""
  },
  "language_info": {
   "name": ""
  }
 },
 "nbformat": 4,
 "nbformat_minor": 5
}
