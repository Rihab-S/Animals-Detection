{
 "cells": [
  {
   "cell_type": "code",
   "execution_count": null,
   "id": "26e22606-59fb-499d-9ad7-abb4ae243adb",
   "metadata": {},
   "outputs": [],
   "source": [
    "\n",
    "import os\n",
    "import shutil\n",
    "from ultralytics import YOLO\n",
    "\n",
    "\n",
    "model_path = r\"path/path/path\" # add your model path\n",
    "model = YOLO(model_path)\n",
    "\n",
    "\n",
    "image_path = r\"path/picture.jpg\" # add you picture for test\n",
    "\n",
    "#\n",
    "model.predict(source=image_path, save=True)\n",
    "\n",
    "\n",
    "runs_detect_path = os.path.join(\"runs\", \"detect\")\n",
    "subfolders = [f.path for f in os.scandir(runs_detect_path) if f.is_dir()]\n",
    "latest_subfolder = max(subfolders, key=os.path.getmtime)\n",
    "\n",
    "print(f\"[INFO] Dernier dossier de sortie YOLO : {latest_subfolder}\")\n",
    "\n",
    "\n",
    "output_path = r\"path/output.jpg\" # add the path for your output picture\n",
    "for file in os.listdir(latest_subfolder):\n",
    "    if file.endswith('.jpg') or file.endswith('.png'):\n",
    "        source_img = os.path.join(latest_subfolder, file)\n",
    "        shutil.copy(source_img, output_path)\n",
    "        print(f\"[INFO] Image annotée copiée vers : {output_path}\")\n",
    "        break"
   ]
  },
  {
   "cell_type": "code",
   "execution_count": null,
   "id": "3ba0d8e8-5729-4777-b17f-3bda46680d04",
   "metadata": {},
   "outputs": [],
   "source": []
  }
 ],
 "metadata": {
  "kernelspec": {
   "display_name": "Python [conda env:base] *",
   "language": "python",
   "name": "conda-base-py"
  },
  "language_info": {
   "codemirror_mode": {
    "name": "ipython",
    "version": 3
   },
   "file_extension": ".py",
   "mimetype": "text/x-python",
   "name": "python",
   "nbconvert_exporter": "python",
   "pygments_lexer": "ipython3",
   "version": "3.10.9"
  }
 },
 "nbformat": 4,
 "nbformat_minor": 5
}
