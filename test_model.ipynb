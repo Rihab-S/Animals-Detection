{
 "cells": [
  {
   "cell_type": "code",
   "execution_count": 1,
   "id": "26e22606-59fb-499d-9ad7-abb4ae243adb",
   "metadata": {},
   "outputs": [
    {
     "name": "stderr",
     "output_type": "stream",
     "text": [
      "Ultralytics YOLOv8.0.0  Python-3.10.9 torch-2.2.0+cpu CPU\n",
      "Fusing layers... \n",
      "YOLOv8x summary: 268 layers, 68200608 parameters, 0 gradients, 257.8 GFLOPs\n",
      "image 1/1 Desktop\\animals_detection\\animal_detection\\yolo_data\\oiseau-Tersina-viridis.jpg: 416x640 1 bird, 989.5ms\n",
      "Speed: 1.0ms pre-process, 989.5ms inference, 2.0ms postprocess per image at shape (1, 3, 640, 640)\n",
      "Results saved to \u001b[1mruns\\detect\\predict\u001b[0m\n"
     ]
    },
    {
     "name": "stdout",
     "output_type": "stream",
     "text": [
      "[INFO] Dernier dossier de sortie YOLO : runs\\detect\\predict\n",
      "[INFO] Image annotée copiée vers : C:\\Users\\21654\\Desktop\\animals_detection\\animal_detection\\yolo_data\\lion-1---.jpg\n"
     ]
    }
   ],
   "source": [
    "import os\n",
    "import shutil\n",
    "from ultralytics import YOLO\n",
    "\n",
    "# === Charger le modèle entraîné ===\n",
    "# model_path = r\"C:\\Users\\21654\\Desktop\\animals_detection\\animal_detection\\yolo_data\\yolo_animal_model.pt\"\n",
    "model_path = r\"C:\\Users\\21654\\Desktop\\animals_detection\\animal_detection\\yolo_data\\\\yolo_animal_model_yolo_8x.pt\"\n",
    "model = YOLO(model_path)\n",
    "\n",
    "# === Image à tester ===\n",
    "image_path = r\"C:\\Users\\21654\\Desktop\\animals_detection\\animal_detection\\yolo_data\\oiseau-Tersina-viridis.jpg\"\n",
    "\n",
    "# === Exécuter la prédiction (résultats automatiquement sauvegardés) ===\n",
    "model.predict(source=image_path, save=True)\n",
    "\n",
    "# === Retrouver le dernier dossier runs/detect/predict*\n",
    "runs_detect_path = os.path.join(\"runs\", \"detect\")\n",
    "subfolders = [f.path for f in os.scandir(runs_detect_path) if f.is_dir()]\n",
    "latest_subfolder = max(subfolders, key=os.path.getmtime)\n",
    "\n",
    "print(f\"[INFO] Dernier dossier de sortie YOLO : {latest_subfolder}\")\n",
    "\n",
    "# === Copier la première image annotée vers le dossier cible\n",
    "output_path = r\"C:\\Users\\21654\\Desktop\\animals_detection\\animal_detection\\yolo_data\\lion-1---.jpg\"\n",
    "for file in os.listdir(latest_subfolder):\n",
    "    if file.endswith('.jpg') or file.endswith('.png'):\n",
    "        source_img = os.path.join(latest_subfolder, file)\n",
    "        shutil.copy(source_img, output_path)\n",
    "        print(f\"[INFO] Image annotée copiée vers : {output_path}\")\n",
    "        break\n"
   ]
  },
  {
   "cell_type": "code",
   "execution_count": null,
   "id": "3ba0d8e8-5729-4777-b17f-3bda46680d04",
   "metadata": {},
   "outputs": [],
   "source": []
  }
 ],
 "metadata": {
  "kernelspec": {
   "display_name": "Python [conda env:base] *",
   "language": "python",
   "name": "conda-base-py"
  },
  "language_info": {
   "codemirror_mode": {
    "name": "ipython",
    "version": 3
   },
   "file_extension": ".py",
   "mimetype": "text/x-python",
   "name": "python",
   "nbconvert_exporter": "python",
   "pygments_lexer": "ipython3",
   "version": "3.10.9"
  }
 },
 "nbformat": 4,
 "nbformat_minor": 5
}
